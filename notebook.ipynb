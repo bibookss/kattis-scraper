{
 "cells": [
  {
   "cell_type": "code",
   "execution_count": 2,
   "id": "e9f90140",
   "metadata": {},
   "outputs": [
    {
     "name": "stdout",
     "output_type": "stream",
     "text": [
      "Login successful\n",
      "Scraping problems solved...\n",
      "Scraping problems finished...\n",
      "Scraping page 1 of submissions...\n",
      "Scraping page 2 of submissions...\n",
      "Scraping page 3 of submissions...\n",
      "Scraping page 4 of submissions...\n"
     ]
    }
   ],
   "source": [
    "from auth import auth\n",
    "from problems import get_submissions, get_problems\n",
    "from dotenv import dotenv_values\n",
    "\n",
    "config = dotenv_values('.env')\n",
    "username = config['USERNAME']\n",
    "password = config['PASSWORD']\n",
    "user = auth(username, password)\n",
    "\n",
    "if user:\n",
    "    get_problems(user)\n",
    "    get_submissions(user)"
   ]
  },
  {
   "cell_type": "code",
   "execution_count": 4,
   "id": "0216e69e",
   "metadata": {},
   "outputs": [],
   "source": [
    "import pandas as pd\n",
    "import matplotlib.pyplot as plt"
   ]
  },
  {
   "cell_type": "code",
   "execution_count": 5,
   "id": "3749f605",
   "metadata": {},
   "outputs": [
    {
     "data": {
      "text/html": [
       "<div>\n",
       "<style scoped>\n",
       "    .dataframe tbody tr th:only-of-type {\n",
       "        vertical-align: middle;\n",
       "    }\n",
       "\n",
       "    .dataframe tbody tr th {\n",
       "        vertical-align: top;\n",
       "    }\n",
       "\n",
       "    .dataframe thead th {\n",
       "        text-align: right;\n",
       "    }\n",
       "</style>\n",
       "<table border=\"1\" class=\"dataframe\">\n",
       "  <thead>\n",
       "    <tr style=\"text-align: right;\">\n",
       "      <th></th>\n",
       "      <th>time</th>\n",
       "      <th>problem</th>\n",
       "      <th>language</th>\n",
       "      <th>status</th>\n",
       "    </tr>\n",
       "  </thead>\n",
       "  <tbody>\n",
       "    <tr>\n",
       "      <th>0</th>\n",
       "      <td>2023-07-05 22:42:35</td>\n",
       "      <td>EpigDanceOff</td>\n",
       "      <td>Python 3</td>\n",
       "      <td>Accepted</td>\n",
       "    </tr>\n",
       "    <tr>\n",
       "      <th>1</th>\n",
       "      <td>2023-07-05 22:25:09</td>\n",
       "      <td>Inverted Deck</td>\n",
       "      <td>Python 3</td>\n",
       "      <td>Accepted</td>\n",
       "    </tr>\n",
       "    <tr>\n",
       "      <th>2</th>\n",
       "      <td>2023-07-05 22:21:10</td>\n",
       "      <td>Inverted Deck</td>\n",
       "      <td>Python 3</td>\n",
       "      <td>Wrong Answer</td>\n",
       "    </tr>\n",
       "    <tr>\n",
       "      <th>3</th>\n",
       "      <td>2023-07-05 21:49:59</td>\n",
       "      <td>Add Two Numbers</td>\n",
       "      <td>Python 3</td>\n",
       "      <td>Accepted</td>\n",
       "    </tr>\n",
       "    <tr>\n",
       "      <th>4</th>\n",
       "      <td>2023-07-04 22:40:41</td>\n",
       "      <td>Apaxiaaaaaaaaaaaans!</td>\n",
       "      <td>Python 3</td>\n",
       "      <td>Accepted</td>\n",
       "    </tr>\n",
       "  </tbody>\n",
       "</table>\n",
       "</div>"
      ],
      "text/plain": [
       "                  time               problem  language        status\n",
       "0  2023-07-05 22:42:35          EpigDanceOff  Python 3      Accepted\n",
       "1  2023-07-05 22:25:09         Inverted Deck  Python 3      Accepted\n",
       "2  2023-07-05 22:21:10         Inverted Deck  Python 3  Wrong Answer\n",
       "3  2023-07-05 21:49:59       Add Two Numbers  Python 3      Accepted\n",
       "4  2023-07-04 22:40:41  Apaxiaaaaaaaaaaaans!  Python 3      Accepted"
      ]
     },
     "execution_count": 5,
     "metadata": {},
     "output_type": "execute_result"
    }
   ],
   "source": [
    "df_s = pd.DataFrame(user.submissions)\n",
    "df_s.head()"
   ]
  },
  {
   "cell_type": "code",
   "execution_count": 7,
   "id": "0e9ef3d8",
   "metadata": {},
   "outputs": [
    {
     "data": {
      "text/html": [
       "<div>\n",
       "<style scoped>\n",
       "    .dataframe tbody tr th:only-of-type {\n",
       "        vertical-align: middle;\n",
       "    }\n",
       "\n",
       "    .dataframe tbody tr th {\n",
       "        vertical-align: top;\n",
       "    }\n",
       "\n",
       "    .dataframe thead th {\n",
       "        text-align: right;\n",
       "    }\n",
       "</style>\n",
       "<table border=\"1\" class=\"dataframe\">\n",
       "  <thead>\n",
       "    <tr style=\"text-align: right;\">\n",
       "      <th></th>\n",
       "      <th>time</th>\n",
       "      <th>problem</th>\n",
       "      <th>language</th>\n",
       "      <th>status</th>\n",
       "      <th>date</th>\n",
       "    </tr>\n",
       "  </thead>\n",
       "  <tbody>\n",
       "    <tr>\n",
       "      <th>0</th>\n",
       "      <td>2023-07-05 22:42:35</td>\n",
       "      <td>EpigDanceOff</td>\n",
       "      <td>Python 3</td>\n",
       "      <td>Accepted</td>\n",
       "      <td>2023-07-05</td>\n",
       "    </tr>\n",
       "    <tr>\n",
       "      <th>1</th>\n",
       "      <td>2023-07-05 22:25:09</td>\n",
       "      <td>Inverted Deck</td>\n",
       "      <td>Python 3</td>\n",
       "      <td>Accepted</td>\n",
       "      <td>2023-07-05</td>\n",
       "    </tr>\n",
       "    <tr>\n",
       "      <th>2</th>\n",
       "      <td>2023-07-05 22:21:10</td>\n",
       "      <td>Inverted Deck</td>\n",
       "      <td>Python 3</td>\n",
       "      <td>Wrong Answer</td>\n",
       "      <td>2023-07-05</td>\n",
       "    </tr>\n",
       "    <tr>\n",
       "      <th>3</th>\n",
       "      <td>2023-07-05 21:49:59</td>\n",
       "      <td>Add Two Numbers</td>\n",
       "      <td>Python 3</td>\n",
       "      <td>Accepted</td>\n",
       "      <td>2023-07-05</td>\n",
       "    </tr>\n",
       "    <tr>\n",
       "      <th>4</th>\n",
       "      <td>2023-07-04 22:40:41</td>\n",
       "      <td>Apaxiaaaaaaaaaaaans!</td>\n",
       "      <td>Python 3</td>\n",
       "      <td>Accepted</td>\n",
       "      <td>2023-07-04</td>\n",
       "    </tr>\n",
       "  </tbody>\n",
       "</table>\n",
       "</div>"
      ],
      "text/plain": [
       "                  time               problem  language        status  \\\n",
       "0  2023-07-05 22:42:35          EpigDanceOff  Python 3      Accepted   \n",
       "1  2023-07-05 22:25:09         Inverted Deck  Python 3      Accepted   \n",
       "2  2023-07-05 22:21:10         Inverted Deck  Python 3  Wrong Answer   \n",
       "3  2023-07-05 21:49:59       Add Two Numbers  Python 3      Accepted   \n",
       "4  2023-07-04 22:40:41  Apaxiaaaaaaaaaaaans!  Python 3      Accepted   \n",
       "\n",
       "         date  \n",
       "0  2023-07-05  \n",
       "1  2023-07-05  \n",
       "2  2023-07-05  \n",
       "3  2023-07-05  \n",
       "4  2023-07-04  "
      ]
     },
     "execution_count": 7,
     "metadata": {},
     "output_type": "execute_result"
    }
   ],
   "source": [
    "# make date column from time\n",
    "df_s['date'] = pd.to_datetime(df_s['time']).dt.date\n",
    "df_s.head()"
   ]
  },
  {
   "cell_type": "code",
   "execution_count": 8,
   "id": "179caf29",
   "metadata": {},
   "outputs": [],
   "source": [
    "def language_used():\n",
    "    df = df_s.copy()\n",
    "\n",
    "    language_counts = df['language'].value_counts()\n",
    "\n",
    "    plt.bar(language_counts.index, language_counts.values)\n",
    "    plt.xlabel('Programming Language')\n",
    "    plt.ylabel('Frequency')\n",
    "    plt.title('Language Usage')\n",
    "    plt.show()"
   ]
  },
  {
   "cell_type": "code",
   "execution_count": 9,
   "id": "4985e8ab",
   "metadata": {},
   "outputs": [
    {
     "data": {
      "image/png": "[encoded data removed]",
      "text/plain": [
       "<Figure size 640x480 with 1 Axes>"
      ]
     },
     "metadata": {},
     "output_type": "display_data"
    }
   ],
   "source": [
    "language_used()"
   ]
  },
  {
   "cell_type": "code",
   "execution_count": 24,
   "id": "cedd40ca",
   "metadata": {},
   "outputs": [],
   "source": [
    "def most_succesful_language():\n",
    "    df = df_s.copy()\n",
    "    \n",
    "    accepted_df = df[df['status'] == 'Accepted']    \n",
    "    not_accepted_df = df[df['status'] != 'Accepted']\n",
    "    \n",
    "    accepted_counts = accepted_df['language'].value_counts()\n",
    "    not_accepted_counts = not_accepted_df['language'].value_counts()\n",
    "    \n",
    "    normalized_counts = accepted_counts / (accepted_counts + not_accepted_counts)\n",
    "    \n",
    "    plt.bar(normalized_counts.index, normalized_counts.values * 100)\n",
    "    plt.xlabel('Programming Language')\n",
    "    plt.ylabel('Acceptance Rate')\n",
    "    plt.title('Most Successful Language')\n",
    "    plt.show()"
   ]
  },
  {
   "cell_type": "code",
   "execution_count": 25,
   "id": "c499b0d3",
   "metadata": {},
   "outputs": [
    {
     "data": {
      "image/png": "[encoded data removed]",
      "text/plain": [
       "<Figure size 640x480 with 1 Axes>"
      ]
     },
     "metadata": {},
     "output_type": "display_data"
    }
   ],
   "source": [
    "most_succesful_language()"
   ]
  },
  {
   "cell_type": "code",
   "execution_count": 74,
   "id": "057f5422",
   "metadata": {},
   "outputs": [
    {
     "data": {
      "image/png": "[encoded data removed]",
      "text/plain": [
       "<Figure size 1200x500 with 2 Axes>"
      ]
     },
     "metadata": {},
     "output_type": "display_data"
    }
   ],
   "source": [
    "import numpy as np\n",
    "import july\n",
    "from july.utils import date_range\n",
    "\n",
    "def submission_heatmap():\n",
    "    df = df_s.copy()\n",
    "    \n",
    "    oldest_date = df['date'].min()\n",
    "    newest_date = df['date'].max()\n",
    "    dates = date_range(oldest_date, newest_date)\n",
    "    \n",
    "    # Convert 'Date' column to datetime\n",
    "    df['date'] = pd.to_datetime(df['date'])\n",
    "\n",
    "    # Set 'Date' column as the DataFrame index\n",
    "    df.set_index('date', inplace=True)\n",
    "\n",
    "    # Resample by day and count occurrences\n",
    "    daily_counts = df.resample('D').size()\n",
    "\n",
    "    # Create a date range within the desired range\n",
    "    start_date = df.index.min()\n",
    "    end_date = df.index.max()\n",
    "    dr = pd.date_range(start=start_date, end=end_date, freq='D')\n",
    "\n",
    "    # Reindex with the date range to add missing dates\n",
    "    daily_counts = daily_counts.reindex(dr, fill_value=0)\n",
    "        \n",
    "    data = daily_counts.values\n",
    "    july.heatmap(dates, data, title='Kattis Activity', cmap=\"github\", colorbar=True)\n",
    "\n",
    "submission_heatmap()"
   ]
  },
  {
   "cell_type": "code",
   "execution_count": null,
   "id": "c341f557",
   "metadata": {},
   "outputs": [],
   "source": []
  },
  {
   "cell_type": "code",
   "execution_count": null,
   "id": "8a6d3fbc",
   "metadata": {},
   "outputs": [],
   "source": []
  }
 ],
 "metadata": {
  "kernelspec": {
   "display_name": "Python 3 (ipykernel)",
   "language": "python",
   "name": "python3"
  },
  "language_info": {
   "codemirror_mode": {
    "name": "ipython",
    "version": 3
   },
   "file_extension": ".py",
   "mimetype": "text/x-python",
   "name": "python",
   "nbconvert_exporter": "python",
   "pygments_lexer": "ipython3",
   "version": "3.9.6"
  }
 },
 "nbformat": 4,
 "nbformat_minor": 5
}
